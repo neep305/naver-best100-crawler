{
 "cells": [
  {
   "cell_type": "markdown",
   "metadata": {
    "collapsed": true
   },
   "source": [
    "# Google BigQuery 연동\n",
    "### 1. Authentication (https://cloud.google.com/docs/authentication/getting-started#auth-cloud-implicit-python)\n",
    "\n",
    "- python package 설치 : bigquery 설치 시 dependency error가 발생할 수 있음. 기존 버전을 'pip uninstall -I [package]' 후 재설치 필요\n",
    "\n",
    "```shell\n",
    "$ pip install --upgrade google-cloud-bigquery\n",
    "```\n",
    "\n",
    "- Service Account Keys 생성 및 다운로드\n",
    "- PATH 설정 : Replace [PATH] with the file path of the JSON file that contains your service account key.\n",
    "\n",
    "```shell\n",
    "$ export GOOGLE_APPLICATION_CREDENTIALS=\"[PATH]\"    \n",
    "```\n",
    "\n"
   ]
  },
  {
   "cell_type": "code",
   "execution_count": 2,
   "metadata": {
    "collapsed": false
   },
   "outputs": [],
   "source": [
    "from google.cloud import bigquery"
   ]
  },
  {
   "cell_type": "code",
   "execution_count": 8,
   "metadata": {
    "collapsed": false
   },
   "outputs": [],
   "source": [
    "client = bigquery.Client()"
   ]
  },
  {
   "cell_type": "code",
   "execution_count": 9,
   "metadata": {
    "collapsed": true
   },
   "outputs": [],
   "source": [
    "def implicit():\n",
    "    from google.cloud import storage\n",
    "\n",
    "    # If you don't specify credentials when constructing the client, the\n",
    "    # client library will look for credentials in the environment.\n",
    "    storage_client = storage.Client()\n",
    "\n",
    "    # Make an authenticated API request\n",
    "    buckets = list(storage_client.list_buckets())\n",
    "    print(buckets)"
   ]
  },
  {
   "cell_type": "code",
   "execution_count": 10,
   "metadata": {
    "collapsed": false
   },
   "outputs": [
    {
     "name": "stdout",
     "output_type": "stream",
     "text": [
      "Datasets in project gsshop-bigquery:\n",
      "\tcustomer_by_store\n",
      "\tgs_transaction\n",
      "\tsocial_hits\n",
      "\ttest\n",
      "\ttv_ab_test\n"
     ]
    }
   ],
   "source": [
    "datasets = list(client.list_datasets())\n",
    "project = client.project\n",
    "\n",
    "if datasets:\n",
    "    print('Datasets in project {}:'.format(project))\n",
    "    for dataset in datasets:  # API request(s)\n",
    "        print('\\t{}'.format(dataset.dataset_id))\n",
    "else:\n",
    "    print('{} project does not contain any datasets.'.format(project))"
   ]
  },
  {
   "cell_type": "code",
   "execution_count": 11,
   "metadata": {
    "collapsed": false
   },
   "outputs": [
    {
     "name": "stdout",
     "output_type": "stream",
     "text": [
      "rank             prd_nm           price            cat_id           cr_date          \n",
      "74               메디큐브 레드 폼 클렌저 230ml 17680            None             None             \n",
      "96               멘소래담 아크네스 포밍워시 200ml 6930             None             None             \n",
      "73               과일나라 첫물녹차 프레시 클렌징크림 300g 3860             None             None             \n",
      "21               멜로멜리 체리블라썸 워터 클렌저 500ml 18710            None             None             \n",
      "19               치노시오야 내추럴 포어 클렌징 오일 150ml 27160            None             None             \n",
      "85               클린앤드클리어 딥 액션 폼 클렌저 120g(지... 4890             None             None             \n",
      "35               헤라 화이트 프로그램 클렌징폼 200ml 17690            None             None             \n",
      "24               해피바스 솝베리 버블 폼 300ml 3870             None             None             \n",
      "36               차앤박 인비져블 필링 부스터 100ml 12830            None             None             \n",
      "97               엘리자베스 해서린 원킬 립앤아이 리무버 패... 8480             None             None             \n"
     ]
    }
   ],
   "source": [
    "# from google.cloud import bigquery\n",
    "# client = bigquery.Client()\n",
    "\n",
    "dataset_ref = client.dataset('social_hits', project='gsshop-bigquery')\n",
    "table_ref = dataset_ref.table('naver_best_product')\n",
    "table = client.get_table(table_ref)  # API call\n",
    "\n",
    "# Load all rows from a table\n",
    "rows = client.list_rows(table)\n",
    "assert len(list(rows)) == table.num_rows\n",
    "\n",
    "# Load the first 10 rows\n",
    "rows = client.list_rows(table, max_results=10)\n",
    "assert len(list(rows)) == 10\n",
    "\n",
    "# Specify selected fields to limit the results to certain columns\n",
    "fields = table.schema[:2]  # first two columns\n",
    "rows = client.list_rows(table, selected_fields=fields, max_results=10)\n",
    "assert len(rows.schema) == 2\n",
    "assert len(list(rows)) == 10\n",
    "\n",
    "# Use the start index to load an arbitrary portion of the table\n",
    "rows = client.list_rows(table, start_index=10, max_results=10)\n",
    "\n",
    "# Print row data in tabular format\n",
    "format_string = '{!s:<16} ' * len(rows.schema)\n",
    "field_names = [field.name for field in rows.schema]\n",
    "print(format_string.format(*field_names))  # prints column headers\n",
    "for row in rows:\n",
    "    print(format_string.format(*row))      # prints row data"
   ]
  },
  {
   "cell_type": "code",
   "execution_count": null,
   "metadata": {
    "collapsed": true
   },
   "outputs": [],
   "source": []
  }
 ],
 "metadata": {
  "kernelspec": {
   "display_name": "Python 3",
   "language": "python",
   "name": "python3"
  },
  "language_info": {
   "codemirror_mode": {
    "name": "ipython",
    "version": 3
   },
   "file_extension": ".py",
   "mimetype": "text/x-python",
   "name": "python",
   "nbconvert_exporter": "python",
   "pygments_lexer": "ipython3",
   "version": "3.5.2"
  }
 },
 "nbformat": 4,
 "nbformat_minor": 2
}
